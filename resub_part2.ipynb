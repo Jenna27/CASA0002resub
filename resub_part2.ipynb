{
 "cells": [
  {
   "cell_type": "code",
   "execution_count": null,
   "id": "3ed4d785",
   "metadata": {},
   "outputs": [],
   "source": [
    "  station_origin station_destination  flows  new_flows_beta_1  \\\n",
    "0     Abbey Road   Bank and Monument      0          0.000234   \n",
    "1     Abbey Road             Beckton      1          0.000222   \n",
    "2     Abbey Road           Blackwall      3          0.000430   \n",
    "3     Abbey Road        Canary Wharf      1          0.000358   \n",
    "4     Abbey Road        Canning Town     37          0.000533   \n",
    "\n",
    "   new_flows_beta_2  \n",
    "0          0.000133  \n",
    "1          0.000123  \n",
    "2          0.000330  \n",
    "3          0.000251  \n",
    "4          0.000456 "
   ]
  },
  {
   "cell_type": "code",
   "execution_count": 3,
   "id": "0c95ab6b",
   "metadata": {},
   "outputs": [
    {
     "name": "stdout",
     "output_type": "stream",
     "text": [
      "  station_origin station_destination  flows  new_flows_beta_1  \\\n",
      "0     Abbey Road   Bank and Monument      0          0.000234   \n",
      "1     Abbey Road             Beckton      1          0.000222   \n",
      "2     Abbey Road           Blackwall      3          0.000430   \n",
      "3     Abbey Road        Canary Wharf      1          0.000358   \n",
      "4     Abbey Road        Canning Town     37          0.000533   \n",
      "\n",
      "   new_flows_beta_2  \n",
      "0          0.000133  \n",
      "1          0.000123  \n",
      "2          0.000330  \n",
      "3          0.000251  \n",
      "4          0.000456  \n"
     ]
    }
   ],
   "source": [
    "import pandas as pd\n",
    "import numpy as np\n",
    "\n",
    "# Load the data\n",
    "london_flows = pd.read_csv('london_flows.csv')\n",
    "\n",
    "# Define the model parameters\n",
    "alpha = 1  # assuming for the purpose of this exercise\n",
    "k = 1.212e-6\n",
    "beta_original = 6.957e-5\n",
    "\n",
    "# Define the two new beta values for Scenario B\n",
    "beta_1 = 2 * beta_original\n",
    "beta_2 = 3 * beta_original\n",
    "\n",
    "# Recompute flows for beta_1\n",
    "london_flows['new_flows_beta_1'] = k * (london_flows['population']**alpha) * (london_flows['jobs']**beta_original) * \\\n",
    "                                  np.exp(-beta_1 * london_flows['distance'])\n",
    "\n",
    "# Recompute flows for beta_2\n",
    "london_flows['new_flows_beta_2'] = k * (london_flows['population']**alpha) * (london_flows['jobs']**beta_original) * \\\n",
    "                                  np.exp(-beta_2 * london_flows['distance'])\n",
    "\n",
    "# Display the results\n",
    "print(london_flows[['station_origin', 'station_destination', 'flows', 'new_flows_beta_1', 'new_flows_beta_2']].head())\n"
   ]
  },
  {
   "cell_type": "code",
   "execution_count": 4,
   "id": "7cb5bdb3",
   "metadata": {},
   "outputs": [
    {
     "name": "stdout",
     "output_type": "stream",
     "text": [
      "Total Original Flows: 1542391\n",
      "Total New Flows with Beta 1: 86.06470108750787\n",
      "Total New Flows with Beta 2: 52.13416172127795\n"
     ]
    }
   ],
   "source": [
    "total_original_flows = london_flows['flows'].sum()\n",
    "total_new_flows_beta_1 = london_flows['new_flows_beta_1'].sum()\n",
    "total_new_flows_beta_2 = london_flows['new_flows_beta_2'].sum()\n",
    "\n",
    "print(f\"Total Original Flows: {total_original_flows}\")\n",
    "print(f\"Total New Flows with Beta 1: {total_new_flows_beta_1}\")\n",
    "print(f\"Total New Flows with Beta 2: {total_new_flows_beta_2}\")\n"
   ]
  },
  {
   "cell_type": "code",
   "execution_count": null,
   "id": "f5d83741",
   "metadata": {},
   "outputs": [],
   "source": []
  }
 ],
 "metadata": {
  "kernelspec": {
   "display_name": "Python 3 (ipykernel)",
   "language": "python",
   "name": "python3"
  },
  "language_info": {
   "codemirror_mode": {
    "name": "ipython",
    "version": 3
   },
   "file_extension": ".py",
   "mimetype": "text/x-python",
   "name": "python",
   "nbconvert_exporter": "python",
   "pygments_lexer": "ipython3",
   "version": "3.9.13"
  }
 },
 "nbformat": 4,
 "nbformat_minor": 5
}
